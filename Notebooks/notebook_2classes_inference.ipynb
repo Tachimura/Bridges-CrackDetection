{
 "nbformat": 4,
 "nbformat_minor": 0,
 "metadata": {
  "colab": {
   "name": "notebook_multiclassification_2classes_realuse.ipynb",
   "provenance": [],
   "collapsed_sections": []
  },
  "kernelspec": {
   "name": "python3",
   "display_name": "Python 3"
  },
  "accelerator": "GPU"
 },
 "cells": [
  {
   "cell_type": "markdown",
   "metadata": {
    "id": "zVCJBeLS7nq3"
   },
   "source": [
    "## 1. Imports"
   ]
  },
  {
   "cell_type": "code",
   "metadata": {
    "id": "6KLAQdGX7pvv"
   },
   "source": [
    "import os\n",
    "import glob\n",
    "import sys\n",
    "from pathlib import Path\n",
    "\n",
    "import PIL.Image\n",
    "\n",
    "# plots and images\n",
    "import matplotlib.pyplot as plt\n",
    "\n",
    "# Pytorch\n",
    "import torch"
   ],
   "execution_count": null,
   "outputs": []
  },
  {
   "cell_type": "code",
   "metadata": {
    "id": "bSnNlA2x7rHB"
   },
   "source": [
    "# If we want to use google drive\n",
    "_USE_G_DRIVE = False"
   ],
   "execution_count": null,
   "outputs": []
  },
  {
   "cell_type": "code",
   "metadata": {
    "colab": {
     "base_uri": "https://localhost:8080/"
    },
    "id": "XeEFMJnF7vV9",
    "outputId": "cb04f469-536d-4585-bc5e-e099d6ad1a71"
   },
   "source": [
    "# Mount google drive\n",
    "base_path = \"../\"\n",
    "if _USE_G_DRIVE:\n",
    "  from google.colab import drive\n",
    "\n",
    "  drive.mount(\"/content/drive/\")\n",
    "  base_path = Path('/content/drive/My Drive/Bridges-Crack-Detection/')\n",
    "  sys.path.append(str(base_path))\n",
    "\n",
    "# import our src package\n",
    "sys.path.append(str(\"../\"))\n",
    "sys.path.append(str(\"../src/\"))"
   ],
   "execution_count": null,
   "outputs": []
  },
  {
   "cell_type": "markdown",
   "metadata": {
    "id": "2kcQsx3F7-Dd"
   },
   "source": [
    "#### Import model and utility functions"
   ]
  },
  {
   "cell_type": "code",
   "metadata": {
    "id": "L-n_ZS9N7-PK"
   },
   "source": [
    "from src.utils.utils import init_random, get_device\n",
    "from src.utils.model import get_model\n",
    "from src.utils.trainer import inference"
   ],
   "execution_count": null,
   "outputs": []
  },
  {
   "cell_type": "markdown",
   "metadata": {
    "id": "4SE6aYEQ8CiO"
   },
   "source": [
    "## 2. Variables definition"
   ]
  },
  {
   "cell_type": "markdown",
   "metadata": {
    "id": "p8mo4hW98EYb"
   },
   "source": [
    "### General Variables"
   ]
  },
  {
   "cell_type": "code",
   "metadata": {
    "colab": {
     "base_uri": "https://localhost:8080/"
    },
    "id": "FMZP1Z9A8Evj",
    "outputId": "f2ed3917-6fa4-4a4a-bd2d-63c67bab085b"
   },
   "source": [
    "# Path for the images we want to classify\n",
    "DS_PATH = os.path.join(base_path, \"Dataset/Test/\")\n",
    "#------------------------------------------------\n",
    "# Saved model path\n",
    "MODEL_SAVE_PATH= os.path.join(base_path, \"SavedWeights/trained_model.pt\")\n",
    "#------------------------------------------------\n",
    "\n",
    "print(\"----- Paths -----\")\n",
    "print(\"Path Dataset To Classify:\", str(DS_PATH))\n",
    "print(\"Path Model Params:\", str(MODEL_SAVE_PATH))"
   ],
   "execution_count": null,
   "outputs": []
  },
  {
   "cell_type": "markdown",
   "metadata": {
    "id": "Rz1YIaMr8a--"
   },
   "source": [
    "### Initialization"
   ]
  },
  {
   "cell_type": "code",
   "metadata": {
    "id": "DwhGMr3q8cXu"
   },
   "source": [
    "# set deterministic to true to have deterministic results, set it to false to have faster inference\n",
    "deterministic_behaviour = False\n",
    "seed = 6788\n",
    "init_random(deterministic_behaviour, seed)\n",
    "device = get_device()"
   ],
   "execution_count": null,
   "outputs": []
  },
  {
   "cell_type": "markdown",
   "metadata": {
    "id": "z0nPdE358iRi"
   },
   "source": [
    "## 3. Load the model"
   ]
  },
  {
   "cell_type": "code",
   "metadata": {
    "colab": {
     "base_uri": "https://localhost:8080/"
    },
    "id": "78vPO4Iu8ibb",
    "outputId": "4d474543-0e97-416f-f617-66cff489da62"
   },
   "source": [
    "# Load the model into the device\n",
    "model = get_model(device, verbose=True)\n",
    "# Load trained weights\n",
    "model.load_state_dict(torch.load(MODEL_SAVE_PATH))\n",
    "# Set the model to evaluation mode\n",
    "model.eval()\n",
    "print(\"Model Loaded\")"
   ],
   "execution_count": null,
   "outputs": []
  },
  {
   "cell_type": "markdown",
   "metadata": {
    "id": "JI7QFhdQ8wW8"
   },
   "source": [
    "## 4. Inference phase"
   ]
  },
  {
   "cell_type": "markdown",
   "metadata": {
    "id": "oVQiSxoN8yHF"
   },
   "source": [
    "### Prepare inference data"
   ]
  },
  {
   "cell_type": "code",
   "metadata": {
    "colab": {
     "base_uri": "https://localhost:8080/"
    },
    "id": "iDMnc2BO8zeJ",
    "outputId": "eb815e5c-0ec3-4767-e322-d559687f4bf2"
   },
   "source": [
    "# Load the dataset\n",
    "data_to_predict = [o for o in glob.glob(os.path.join(DS_PATH, \"*\"))]\n",
    "#-------------------------------------------------------\n",
    "\n",
    "print(\"Number of images to classify:\", len(data_to_predict))"
   ],
   "execution_count": null,
   "outputs": []
  },
  {
   "cell_type": "markdown",
   "metadata": {
    "id": "3WHGGH3M89Xm"
   },
   "source": [
    "### Prediction method"
   ]
  },
  {
   "cell_type": "code",
   "metadata": {
    "id": "JwgJaGcK8-jn"
   },
   "source": [
    "def predict_image(model, path, device):\n",
    "  img = PIL.Image.open(path)\n",
    "  output = inference(model, path, device)\n",
    "  return img, output"
   ],
   "execution_count": null,
   "outputs": []
  },
  {
   "cell_type": "markdown",
   "metadata": {
    "id": "uUQYNHq-9AQa"
   },
   "source": [
    "### Print images and their relative predictions"
   ]
  },
  {
   "cell_type": "code",
   "metadata": {
    "colab": {
     "base_uri": "https://localhost:8080/",
     "height": 1000
    },
    "id": "kWfsHWQj9Bq7",
    "outputId": "2585a873-d36e-4a9a-ce58-3bdbbe19262d"
   },
   "source": [
    "# Set number of plots to show\n",
    "N_ROWS = 2 # Must be > 1\n",
    "N_COLUMNS = 3 # Must be > 1\n",
    "N_IMAGES_TO_PLOT = N_ROWS * N_COLUMNS\n",
    "# If we have more images only N_IMAGES_TO_PLOT will be shown, for the others we will have only the print\n",
    "\n",
    "plots_height = 10\n",
    "plots_width = 10\n",
    "\n",
    "fig,a = plt.subplots(N_ROWS, N_COLUMNS)\n",
    "fig.set_figheight(plots_height)\n",
    "fig.set_figwidth(plots_width)\n",
    "\n",
    "i = j = 0\n",
    "cont = 0\n",
    "for img_path in data_to_predict:\n",
    "  output_image, result = predict_image(model, img_path, device)\n",
    "  result = \"Normal\" if result == 0 else \"Crack\" if result == 1 else \"Spalling\"\n",
    "  print(f\"The image was classified as: {result}\\n\")\n",
    "  if cont < N_IMAGES_TO_PLOT:\n",
    "    a[i][j].imshow(output_image)\n",
    "    a[i][j].set_title(result)\n",
    "    j += 1\n",
    "    if j == N_COLUMNS:\n",
    "      j = 0\n",
    "      i += 1\n",
    "  cont += 1"
   ],
   "execution_count": null,
   "outputs": []
  }
 ]
}
